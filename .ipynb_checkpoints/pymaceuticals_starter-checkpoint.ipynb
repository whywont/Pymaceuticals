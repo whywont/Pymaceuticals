{
 "cells": [
  {
   "cell_type": "markdown",
   "metadata": {},
   "source": [
    "## Observations and Insights "
   ]
  },
  {
   "cell_type": "markdown",
   "metadata": {},
   "source": []
  },
  {
   "cell_type": "code",
   "execution_count": 1,
   "metadata": {},
   "outputs": [],
   "source": [
    "# Dependencies and Setup\n",
    "import matplotlib.pyplot as plt\n",
    "import pandas as pd\n",
    "import scipy.stats as st\n",
    "from collections import defaultdict\n",
    "from scipy.stats import linregress\n",
    "\n",
    "import numpy as np\n",
    "\n",
    "\n",
    "# Study data files\n",
    "mouse_metadata_path = \"data/Mouse_metadata.csv\"\n",
    "study_results_path = \"data/Study_results.csv\"\n",
    "\n",
    "# Read the mouse data and the study results\n",
    "mouse_metadata = pd.read_csv(mouse_metadata_path)\n",
    "study_results = pd.read_csv(study_results_path)\n",
    "\n",
    "# Combine the data into a single dataset\n",
    "mouse_study = pd.merge(mouse_metadata, study_results, on = 'Mouse ID', how='outer')\n"
   ]
  },
  {
   "cell_type": "code",
   "execution_count": 2,
   "metadata": {},
   "outputs": [
    {
     "data": {
      "text/plain": [
       "1893"
      ]
     },
     "execution_count": 2,
     "metadata": {},
     "output_type": "execute_result"
    }
   ],
   "source": [
    "# Checking the total number of mice.\n",
    "mice_number = mouse_study['Mouse ID'].count()\n",
    "mice_number\n"
   ]
  },
  {
   "cell_type": "code",
   "execution_count": 3,
   "metadata": {},
   "outputs": [
    {
     "data": {
      "text/html": [
       "<div>\n",
       "<style scoped>\n",
       "    .dataframe tbody tr th:only-of-type {\n",
       "        vertical-align: middle;\n",
       "    }\n",
       "\n",
       "    .dataframe tbody tr th {\n",
       "        vertical-align: top;\n",
       "    }\n",
       "\n",
       "    .dataframe thead th {\n",
       "        text-align: right;\n",
       "    }\n",
       "</style>\n",
       "<table border=\"1\" class=\"dataframe\">\n",
       "  <thead>\n",
       "    <tr style=\"text-align: right;\">\n",
       "      <th></th>\n",
       "      <th>Mouse ID</th>\n",
       "      <th>Drug Regimen</th>\n",
       "      <th>Sex</th>\n",
       "      <th>Age_months</th>\n",
       "      <th>Weight (g)</th>\n",
       "      <th>Timepoint</th>\n",
       "      <th>Tumor Volume (mm3)</th>\n",
       "      <th>Metastatic Sites</th>\n",
       "    </tr>\n",
       "  </thead>\n",
       "  <tbody>\n",
       "    <tr>\n",
       "      <th>909</th>\n",
       "      <td>g989</td>\n",
       "      <td>Propriva</td>\n",
       "      <td>Female</td>\n",
       "      <td>21</td>\n",
       "      <td>26</td>\n",
       "      <td>0</td>\n",
       "      <td>45.000000</td>\n",
       "      <td>0</td>\n",
       "    </tr>\n",
       "    <tr>\n",
       "      <th>911</th>\n",
       "      <td>g989</td>\n",
       "      <td>Propriva</td>\n",
       "      <td>Female</td>\n",
       "      <td>21</td>\n",
       "      <td>26</td>\n",
       "      <td>5</td>\n",
       "      <td>47.570392</td>\n",
       "      <td>0</td>\n",
       "    </tr>\n",
       "    <tr>\n",
       "      <th>913</th>\n",
       "      <td>g989</td>\n",
       "      <td>Propriva</td>\n",
       "      <td>Female</td>\n",
       "      <td>21</td>\n",
       "      <td>26</td>\n",
       "      <td>10</td>\n",
       "      <td>49.880528</td>\n",
       "      <td>0</td>\n",
       "    </tr>\n",
       "    <tr>\n",
       "      <th>915</th>\n",
       "      <td>g989</td>\n",
       "      <td>Propriva</td>\n",
       "      <td>Female</td>\n",
       "      <td>21</td>\n",
       "      <td>26</td>\n",
       "      <td>15</td>\n",
       "      <td>53.442020</td>\n",
       "      <td>0</td>\n",
       "    </tr>\n",
       "    <tr>\n",
       "      <th>917</th>\n",
       "      <td>g989</td>\n",
       "      <td>Propriva</td>\n",
       "      <td>Female</td>\n",
       "      <td>21</td>\n",
       "      <td>26</td>\n",
       "      <td>20</td>\n",
       "      <td>54.657650</td>\n",
       "      <td>1</td>\n",
       "    </tr>\n",
       "  </tbody>\n",
       "</table>\n",
       "</div>"
      ],
      "text/plain": [
       "    Mouse ID Drug Regimen     Sex  Age_months  Weight (g)  Timepoint  \\\n",
       "909     g989     Propriva  Female          21          26          0   \n",
       "911     g989     Propriva  Female          21          26          5   \n",
       "913     g989     Propriva  Female          21          26         10   \n",
       "915     g989     Propriva  Female          21          26         15   \n",
       "917     g989     Propriva  Female          21          26         20   \n",
       "\n",
       "     Tumor Volume (mm3)  Metastatic Sites  \n",
       "909           45.000000                 0  \n",
       "911           47.570392                 0  \n",
       "913           49.880528                 0  \n",
       "915           53.442020                 0  \n",
       "917           54.657650                 1  "
      ]
     },
     "execution_count": 3,
     "metadata": {},
     "output_type": "execute_result"
    }
   ],
   "source": [
    "# Optional: Get all the data for the duplicate mouse ID. \n",
    "mouse_dup = mouse_study[mouse_study.duplicated(['Mouse ID', 'Timepoint'])]\n",
    "mouse_dup"
   ]
  },
  {
   "cell_type": "code",
   "execution_count": 4,
   "metadata": {},
   "outputs": [],
   "source": [
    "# Create a clean DataFrame by dropping the duplicate mouse by its ID.\n",
    "#drops duplicates but doesn't drop all data required\n",
    "#mouse_study_clean = mouse_study.drop_duplicates(subset=[\"Mouse ID\", \"Timepoint\"])\n",
    "#drops all data from mouse ID g989\n",
    "mouse_study.drop(mouse_study[mouse_study['Mouse ID']== 'g989'].index, inplace=True)"
   ]
  },
  {
   "cell_type": "code",
   "execution_count": 5,
   "metadata": {},
   "outputs": [
    {
     "name": "stdout",
     "output_type": "stream",
     "text": [
      "1880\n",
      "248\n"
     ]
    }
   ],
   "source": [
    "# Checking the number of mice in the clean DataFrame.\n",
    "total_mouse = mouse_study['Mouse ID'].count()\n",
    "total_unique = mouse_study['Mouse ID'].nunique()\n",
    "#Print unique mice and total mice\n",
    "print(str(total_mouse) + '\\n' + str(total_unique))"
   ]
  },
  {
   "cell_type": "markdown",
   "metadata": {},
   "source": [
    "## Summary Statistics"
   ]
  },
  {
   "cell_type": "code",
   "execution_count": 6,
   "metadata": {
    "scrolled": true
   },
   "outputs": [
    {
     "data": {
      "text/html": [
       "<div>\n",
       "<style scoped>\n",
       "    .dataframe tbody tr th:only-of-type {\n",
       "        vertical-align: middle;\n",
       "    }\n",
       "\n",
       "    .dataframe tbody tr th {\n",
       "        vertical-align: top;\n",
       "    }\n",
       "\n",
       "    .dataframe thead th {\n",
       "        text-align: right;\n",
       "    }\n",
       "</style>\n",
       "<table border=\"1\" class=\"dataframe\">\n",
       "  <thead>\n",
       "    <tr style=\"text-align: right;\">\n",
       "      <th></th>\n",
       "      <th>Tumor Volume (mm3)_mean</th>\n",
       "      <th>Tumor Volume (mm3)_median</th>\n",
       "      <th>Tumor Volume (mm3)_var</th>\n",
       "      <th>Tumor Volume (mm3)_std</th>\n",
       "      <th>Tumor Volume (mm3)_sem</th>\n",
       "    </tr>\n",
       "    <tr>\n",
       "      <th>Drug Regimen</th>\n",
       "      <th></th>\n",
       "      <th></th>\n",
       "      <th></th>\n",
       "      <th></th>\n",
       "      <th></th>\n",
       "    </tr>\n",
       "  </thead>\n",
       "  <tbody>\n",
       "    <tr>\n",
       "      <th>Capomulin</th>\n",
       "      <td>40.68</td>\n",
       "      <td>41.56</td>\n",
       "      <td>24.95</td>\n",
       "      <td>4.99</td>\n",
       "      <td>0.33</td>\n",
       "    </tr>\n",
       "    <tr>\n",
       "      <th>Ceftamin</th>\n",
       "      <td>52.59</td>\n",
       "      <td>51.78</td>\n",
       "      <td>39.29</td>\n",
       "      <td>6.27</td>\n",
       "      <td>0.47</td>\n",
       "    </tr>\n",
       "    <tr>\n",
       "      <th>Infubinol</th>\n",
       "      <td>52.88</td>\n",
       "      <td>51.82</td>\n",
       "      <td>43.13</td>\n",
       "      <td>6.57</td>\n",
       "      <td>0.49</td>\n",
       "    </tr>\n",
       "    <tr>\n",
       "      <th>Ketapril</th>\n",
       "      <td>55.24</td>\n",
       "      <td>53.70</td>\n",
       "      <td>68.55</td>\n",
       "      <td>8.28</td>\n",
       "      <td>0.60</td>\n",
       "    </tr>\n",
       "    <tr>\n",
       "      <th>Naftisol</th>\n",
       "      <td>54.33</td>\n",
       "      <td>52.51</td>\n",
       "      <td>66.17</td>\n",
       "      <td>8.13</td>\n",
       "      <td>0.60</td>\n",
       "    </tr>\n",
       "    <tr>\n",
       "      <th>Placebo</th>\n",
       "      <td>54.03</td>\n",
       "      <td>52.29</td>\n",
       "      <td>61.17</td>\n",
       "      <td>7.82</td>\n",
       "      <td>0.58</td>\n",
       "    </tr>\n",
       "    <tr>\n",
       "      <th>Propriva</th>\n",
       "      <td>52.32</td>\n",
       "      <td>50.45</td>\n",
       "      <td>43.85</td>\n",
       "      <td>6.62</td>\n",
       "      <td>0.54</td>\n",
       "    </tr>\n",
       "    <tr>\n",
       "      <th>Ramicane</th>\n",
       "      <td>40.22</td>\n",
       "      <td>40.67</td>\n",
       "      <td>23.49</td>\n",
       "      <td>4.85</td>\n",
       "      <td>0.32</td>\n",
       "    </tr>\n",
       "    <tr>\n",
       "      <th>Stelasyn</th>\n",
       "      <td>54.23</td>\n",
       "      <td>52.43</td>\n",
       "      <td>59.45</td>\n",
       "      <td>7.71</td>\n",
       "      <td>0.57</td>\n",
       "    </tr>\n",
       "    <tr>\n",
       "      <th>Zoniferol</th>\n",
       "      <td>53.24</td>\n",
       "      <td>51.82</td>\n",
       "      <td>48.53</td>\n",
       "      <td>6.97</td>\n",
       "      <td>0.52</td>\n",
       "    </tr>\n",
       "  </tbody>\n",
       "</table>\n",
       "</div>"
      ],
      "text/plain": [
       "              Tumor Volume (mm3)_mean  Tumor Volume (mm3)_median  \\\n",
       "Drug Regimen                                                       \n",
       "Capomulin                       40.68                      41.56   \n",
       "Ceftamin                        52.59                      51.78   \n",
       "Infubinol                       52.88                      51.82   \n",
       "Ketapril                        55.24                      53.70   \n",
       "Naftisol                        54.33                      52.51   \n",
       "Placebo                         54.03                      52.29   \n",
       "Propriva                        52.32                      50.45   \n",
       "Ramicane                        40.22                      40.67   \n",
       "Stelasyn                        54.23                      52.43   \n",
       "Zoniferol                       53.24                      51.82   \n",
       "\n",
       "              Tumor Volume (mm3)_var  Tumor Volume (mm3)_std  \\\n",
       "Drug Regimen                                                   \n",
       "Capomulin                      24.95                    4.99   \n",
       "Ceftamin                       39.29                    6.27   \n",
       "Infubinol                      43.13                    6.57   \n",
       "Ketapril                       68.55                    8.28   \n",
       "Naftisol                       66.17                    8.13   \n",
       "Placebo                        61.17                    7.82   \n",
       "Propriva                       43.85                    6.62   \n",
       "Ramicane                       23.49                    4.85   \n",
       "Stelasyn                       59.45                    7.71   \n",
       "Zoniferol                      48.53                    6.97   \n",
       "\n",
       "              Tumor Volume (mm3)_sem  \n",
       "Drug Regimen                          \n",
       "Capomulin                       0.33  \n",
       "Ceftamin                        0.47  \n",
       "Infubinol                       0.49  \n",
       "Ketapril                        0.60  \n",
       "Naftisol                        0.60  \n",
       "Placebo                         0.58  \n",
       "Propriva                        0.54  \n",
       "Ramicane                        0.32  \n",
       "Stelasyn                        0.57  \n",
       "Zoniferol                       0.52  "
      ]
     },
     "execution_count": 6,
     "metadata": {},
     "output_type": "execute_result"
    }
   ],
   "source": [
    "#Groups data by Drug name and gets various stats for it\n",
    "mouse_stats = mouse_study.groupby(['Drug Regimen']).agg({'Tumor Volume (mm3)': ['mean','median', 'var', 'std', 'sem']}).round(2)\n",
    "#evens column level\n",
    "mouse_stats.columns = ['_'.join(col) for col in mouse_stats.columns.values]\n",
    "\n",
    "mouse_stats\n"
   ]
  },
  {
   "cell_type": "markdown",
   "metadata": {},
   "source": [
    "## Bar and Pie Charts"
   ]
  },
  {
   "cell_type": "code",
   "execution_count": 7,
   "metadata": {},
   "outputs": [
    {
     "data": {
      "image/png": "[encoded data removed]",
      "text/plain": [
       "<Figure size 864x504 with 1 Axes>"
      ]
     },
     "metadata": {
      "needs_background": "light"
     },
     "output_type": "display_data"
    }
   ],
   "source": [
    "# Generate a bar plot showing the total number of timepoints for all mice tested for each drug regimen using Pandas.\n",
    "#Gets total number of time points per Drug\n",
    "mouse_bar = mouse_study.groupby('Drug Regimen').count()['Timepoint']\n",
    "mouse_bar_df = pd.DataFrame(mouse_bar)\n",
    "#bar plot\n",
    "ax = mouse_bar_df.plot(kind='bar', title =\"Total Timepoint per Drug\", figsize=(12, 7), legend=False, fontsize=12)\n"
   ]
  },
  {
   "cell_type": "code",
   "execution_count": 8,
   "metadata": {},
   "outputs": [
    {
     "data": {
      "image/png": "[encoded data removed]",
      "text/plain": [
       "<Figure size 864x504 with 1 Axes>"
      ]
     },
     "metadata": {
      "needs_background": "light"
     },
     "output_type": "display_data"
    }
   ],
   "source": [
    "# Generate a bar plot showing the total number of timepoints for all mice tested for each drug regimen using pyplot.\n",
    "\n",
    "mouse_plot_df = pd.DataFrame(mouse_bar)\n",
    "#Resets index because the drugname being the index throws an error\n",
    "mouse_plot_df.reset_index(inplace = True)\n",
    "\n",
    "#changes font\n",
    "plt.rcParams.update({'font.size': 12})\n",
    "#gets total number of Drugs\n",
    "x_axis = np.arange(len(mouse_plot_df))\n",
    "#assigns drug name to tick values\n",
    "tick_locations = [value for value in x_axis]\n",
    "\n",
    "#Sets figure\n",
    "plt.figure(figsize=(12,7))\n",
    "plt.bar(x_axis, mouse_plot_df['Timepoint'], color='lightblue', width = 0.5, alpha = 1)\n",
    "plt.xticks(tick_locations, mouse_plot_df['Drug Regimen'], rotation=\"vertical\")\n",
    "\n",
    "plt.show()"
   ]
  },
  {
   "cell_type": "code",
   "execution_count": 9,
   "metadata": {},
   "outputs": [
    {
     "data": {
      "image/png": "[encoded data removed]",
      "text/plain": [
       "<Figure size 792x432 with 1 Axes>"
      ]
     },
     "metadata": {},
     "output_type": "display_data"
    }
   ],
   "source": [
    "# Generate a pie plot showing the distribution of female versus male mice using Pandas\n",
    "#gets number of unique male and femal mice\n",
    "mouse_gender = mouse_study.groupby(['Sex'])['Mouse ID'].nunique()\n",
    "#converts to dataframe\n",
    "mouse_gender_df = pd.DataFrame(mouse_gender)\n",
    "#converts to pie chart using pandas plot\n",
    "plot = mouse_gender.plot.pie(subplots =True, figsize=(11, 6), fontsize = 12, autopct='%1.1f%%', shadow = True, colors = ['orange', 'green'])"
   ]
  },
  {
   "cell_type": "code",
   "execution_count": 10,
   "metadata": {},
   "outputs": [
    {
     "data": {
      "image/png": "[encoded data removed]",
      "text/plain": [
       "<Figure size 432x288 with 1 Axes>"
      ]
     },
     "metadata": {},
     "output_type": "display_data"
    }
   ],
   "source": [
    "# Generate a pie plot showing the distribution of female versus male mice using pyplot\\\n",
    "#Hard code values because pie charts by nature have small datasets\n",
    "labels = ['Male', 'Female']\n",
    "sizes = [125, 123]\n",
    "colors = ['orange', 'green']\n",
    "explode = (0.1, 0)\n",
    "plt.pie(sizes, explode=explode, labels=labels, colors=colors,\n",
    "        autopct=\"%1.1f%%\", shadow=True, startangle=140)\n",
    "plt.show()"
   ]
  },
  {
   "cell_type": "markdown",
   "metadata": {},
   "source": [
    "## Quartiles, Outliers and Boxplots"
   ]
  },
  {
   "cell_type": "code",
   "execution_count": 11,
   "metadata": {},
   "outputs": [
    {
     "data": {
      "text/html": [
       "<div>\n",
       "<style scoped>\n",
       "    .dataframe tbody tr th:only-of-type {\n",
       "        vertical-align: middle;\n",
       "    }\n",
       "\n",
       "    .dataframe tbody tr th {\n",
       "        vertical-align: top;\n",
       "    }\n",
       "\n",
       "    .dataframe thead th {\n",
       "        text-align: right;\n",
       "    }\n",
       "</style>\n",
       "<table border=\"1\" class=\"dataframe\">\n",
       "  <thead>\n",
       "    <tr style=\"text-align: right;\">\n",
       "      <th></th>\n",
       "      <th>Mouse ID</th>\n",
       "      <th>Drug Regimen</th>\n",
       "      <th>Sex</th>\n",
       "      <th>Age_months</th>\n",
       "      <th>Weight (g)</th>\n",
       "      <th>Timepoint_x</th>\n",
       "      <th>Tumor Volume (mm3)</th>\n",
       "      <th>Metastatic Sites</th>\n",
       "      <th>Timepoint_y</th>\n",
       "    </tr>\n",
       "  </thead>\n",
       "  <tbody>\n",
       "    <tr>\n",
       "      <th>0</th>\n",
       "      <td>k403</td>\n",
       "      <td>Ramicane</td>\n",
       "      <td>Male</td>\n",
       "      <td>21</td>\n",
       "      <td>16</td>\n",
       "      <td>0</td>\n",
       "      <td>45.000000</td>\n",
       "      <td>0</td>\n",
       "      <td>45</td>\n",
       "    </tr>\n",
       "    <tr>\n",
       "      <th>1</th>\n",
       "      <td>k403</td>\n",
       "      <td>Ramicane</td>\n",
       "      <td>Male</td>\n",
       "      <td>21</td>\n",
       "      <td>16</td>\n",
       "      <td>5</td>\n",
       "      <td>38.825898</td>\n",
       "      <td>0</td>\n",
       "      <td>45</td>\n",
       "    </tr>\n",
       "    <tr>\n",
       "      <th>2</th>\n",
       "      <td>k403</td>\n",
       "      <td>Ramicane</td>\n",
       "      <td>Male</td>\n",
       "      <td>21</td>\n",
       "      <td>16</td>\n",
       "      <td>10</td>\n",
       "      <td>35.014271</td>\n",
       "      <td>1</td>\n",
       "      <td>45</td>\n",
       "    </tr>\n",
       "    <tr>\n",
       "      <th>3</th>\n",
       "      <td>k403</td>\n",
       "      <td>Ramicane</td>\n",
       "      <td>Male</td>\n",
       "      <td>21</td>\n",
       "      <td>16</td>\n",
       "      <td>15</td>\n",
       "      <td>34.223992</td>\n",
       "      <td>1</td>\n",
       "      <td>45</td>\n",
       "    </tr>\n",
       "    <tr>\n",
       "      <th>4</th>\n",
       "      <td>k403</td>\n",
       "      <td>Ramicane</td>\n",
       "      <td>Male</td>\n",
       "      <td>21</td>\n",
       "      <td>16</td>\n",
       "      <td>20</td>\n",
       "      <td>32.997729</td>\n",
       "      <td>1</td>\n",
       "      <td>45</td>\n",
       "    </tr>\n",
       "    <tr>\n",
       "      <th>...</th>\n",
       "      <td>...</td>\n",
       "      <td>...</td>\n",
       "      <td>...</td>\n",
       "      <td>...</td>\n",
       "      <td>...</td>\n",
       "      <td>...</td>\n",
       "      <td>...</td>\n",
       "      <td>...</td>\n",
       "      <td>...</td>\n",
       "    </tr>\n",
       "    <tr>\n",
       "      <th>1875</th>\n",
       "      <td>z969</td>\n",
       "      <td>Naftisol</td>\n",
       "      <td>Male</td>\n",
       "      <td>9</td>\n",
       "      <td>30</td>\n",
       "      <td>25</td>\n",
       "      <td>63.145652</td>\n",
       "      <td>2</td>\n",
       "      <td>45</td>\n",
       "    </tr>\n",
       "    <tr>\n",
       "      <th>1876</th>\n",
       "      <td>z969</td>\n",
       "      <td>Naftisol</td>\n",
       "      <td>Male</td>\n",
       "      <td>9</td>\n",
       "      <td>30</td>\n",
       "      <td>30</td>\n",
       "      <td>65.841013</td>\n",
       "      <td>3</td>\n",
       "      <td>45</td>\n",
       "    </tr>\n",
       "    <tr>\n",
       "      <th>1877</th>\n",
       "      <td>z969</td>\n",
       "      <td>Naftisol</td>\n",
       "      <td>Male</td>\n",
       "      <td>9</td>\n",
       "      <td>30</td>\n",
       "      <td>35</td>\n",
       "      <td>69.176246</td>\n",
       "      <td>4</td>\n",
       "      <td>45</td>\n",
       "    </tr>\n",
       "    <tr>\n",
       "      <th>1878</th>\n",
       "      <td>z969</td>\n",
       "      <td>Naftisol</td>\n",
       "      <td>Male</td>\n",
       "      <td>9</td>\n",
       "      <td>30</td>\n",
       "      <td>40</td>\n",
       "      <td>70.314904</td>\n",
       "      <td>4</td>\n",
       "      <td>45</td>\n",
       "    </tr>\n",
       "    <tr>\n",
       "      <th>1879</th>\n",
       "      <td>z969</td>\n",
       "      <td>Naftisol</td>\n",
       "      <td>Male</td>\n",
       "      <td>9</td>\n",
       "      <td>30</td>\n",
       "      <td>45</td>\n",
       "      <td>73.867845</td>\n",
       "      <td>4</td>\n",
       "      <td>45</td>\n",
       "    </tr>\n",
       "  </tbody>\n",
       "</table>\n",
       "<p>1880 rows × 9 columns</p>\n",
       "</div>"
      ],
      "text/plain": [
       "     Mouse ID Drug Regimen   Sex  Age_months  Weight (g)  Timepoint_x  \\\n",
       "0        k403     Ramicane  Male          21          16            0   \n",
       "1        k403     Ramicane  Male          21          16            5   \n",
       "2        k403     Ramicane  Male          21          16           10   \n",
       "3        k403     Ramicane  Male          21          16           15   \n",
       "4        k403     Ramicane  Male          21          16           20   \n",
       "...       ...          ...   ...         ...         ...          ...   \n",
       "1875     z969     Naftisol  Male           9          30           25   \n",
       "1876     z969     Naftisol  Male           9          30           30   \n",
       "1877     z969     Naftisol  Male           9          30           35   \n",
       "1878     z969     Naftisol  Male           9          30           40   \n",
       "1879     z969     Naftisol  Male           9          30           45   \n",
       "\n",
       "      Tumor Volume (mm3)  Metastatic Sites  Timepoint_y  \n",
       "0              45.000000                 0           45  \n",
       "1              38.825898                 0           45  \n",
       "2              35.014271                 1           45  \n",
       "3              34.223992                 1           45  \n",
       "4              32.997729                 1           45  \n",
       "...                  ...               ...          ...  \n",
       "1875           63.145652                 2           45  \n",
       "1876           65.841013                 3           45  \n",
       "1877           69.176246                 4           45  \n",
       "1878           70.314904                 4           45  \n",
       "1879           73.867845                 4           45  \n",
       "\n",
       "[1880 rows x 9 columns]"
      ]
     },
     "execution_count": 11,
     "metadata": {},
     "output_type": "execute_result"
    }
   ],
   "source": [
    "# Calculate the final tumor volume of each mouse across four of the treatment regimens:  \n",
    "# Capomulin, Ramicane, Infubinol, and Ceftamin\n",
    "\n",
    "# Start by getting the last (greatest) timepoint for each mouse\n",
    "last_time = mouse_study.groupby('Mouse ID')['Timepoint'].max()\n",
    "# Merge this group df with the original dataframe to get the tumor volume at the last timepoint\n",
    "timepoint_df = pd.merge(mouse_study, last_time, on = 'Mouse ID', how='outer')\n",
    "\n",
    "timepoint_df"
   ]
  },
  {
   "cell_type": "code",
   "execution_count": 12,
   "metadata": {},
   "outputs": [
    {
     "name": "stdout",
     "output_type": "stream",
     "text": [
      "The lower quartile of Capomulin is 32.38\n",
      "The upper quartile of Capomulin is: 40.16\n",
      "The interquartile range of Capomulin is: 7.78\n",
      "The the median of Capomulin is: 38.13 \n",
      "---------------------------------------------\n",
      "Values below 20.71 could be outliers.\n",
      "Values above 51.83 could be outliers.\n",
      "Number of Capomulin outliers: 0\n",
      "\n",
      "\n",
      "The lower quartile of Ramicane is 31.56\n",
      "The upper quartile of Ramicane is: 40.66\n",
      "The interquartile range of Ramicane is: 9.1\n",
      "The the median of Ramicane is: 36.56 \n",
      "---------------------------------------------\n",
      "Values below 17.91 could be outliers.\n",
      "Values above 54.31 could be outliers.\n",
      "Number of Ramicane outliers: 0\n",
      "\n",
      "\n",
      "The lower quartile of Infubinol is 54.05\n",
      "The upper quartile of Infubinol is: 65.53\n",
      "The interquartile range of Infubinol is: 11.48\n",
      "The the median of Infubinol is: 60.17 \n",
      "---------------------------------------------\n",
      "Values below 36.83 could be outliers.\n",
      "Values above 82.75 could be outliers.\n",
      "Number of Infubinol outliers: 1\n",
      "\n",
      "\n",
      "The lower quartile of Ceftamin is 48.72\n",
      "The upper quartile of Ceftamin is: 64.3\n",
      "The interquartile range of Ceftamin is: 15.58\n",
      "The the median of Ceftamin is: 59.85 \n",
      "---------------------------------------------\n",
      "Values below 25.35 could be outliers.\n",
      "Values above 87.67 could be outliers.\n",
      "Number of Ceftamin outliers: 0\n",
      "\n",
      "\n"
     ]
    }
   ],
   "source": [
    "# Put treatments into a list for for loop (and later for plot labels)\n",
    "drug_list = ['Capomulin', 'Ramicane', 'Infubinol', 'Ceftamin']\n",
    "tumor_list = []\n",
    "tumor_dict = {}\n",
    "\n",
    "for drug in drug_list:\n",
    "    #gets all rows where drug matches drug list\n",
    "    temp = timepoint_df.loc[timepoint_df['Drug Regimen']== drug]\n",
    "    #further filters, grabs last time point\n",
    "    ft_data = temp.loc[temp['Timepoint_x'] == temp['Timepoint_y']]\n",
    "    #gets tumor vol data into a series and then\n",
    "    tumor_vol = ft_data['Tumor Volume (mm3)']\n",
    "    tumor_list = tumor_vol.tolist()\n",
    "    \n",
    "    #get quartile data\n",
    "    quartiles = tumor_vol.quantile([.25,.5,.75])\n",
    "    lowerq = quartiles[0.25].round(2)\n",
    "    upperq = quartiles[0.75].round(2)\n",
    "    iqr = (upperq-lowerq).round(2)\n",
    "    \n",
    "    #output quartile data\n",
    "    print(f\"The lower quartile of {drug} is {lowerq}\")\n",
    "    print(f\"The upper quartile of {drug} is: {upperq}\")\n",
    "    print(f\"The interquartile range of {drug} is: {iqr}\")\n",
    "    print(f\"The the median of {drug} is: {quartiles[0.5].round(2)} \")\n",
    "    \n",
    "    #get bound data\n",
    "    lower_bound = (lowerq - (1.5*iqr)).round(2)\n",
    "    upper_bound = (upperq + (1.5*iqr)).round(2)\n",
    "    print(\"---------------------------------------------\")\n",
    "    print(f\"Values below {lower_bound} could be outliers.\")\n",
    "    print(f\"Values above {upper_bound} could be outliers.\")\n",
    "    \n",
    "    #filter tumor vol data based bounds and count any matches\n",
    "    outliers = tumor_vol.loc[(ft_data['Tumor Volume (mm3)'] <= lower_bound) | (ft_data['Tumor Volume (mm3)'] >= upper_bound)].count()\n",
    "    print(f\"Number of {drug} outliers: {outliers}\")\n",
    "    print(\"\\n\")\n",
    "    \n",
    "    #Add key as drug name to dictionary, then append list data\n",
    "    if drug not in tumor_dict:\n",
    "        tumor_dict[drug] = tumor_list\n",
    "    else:\n",
    "         tumor_dict[drug].append(tumor_list)"
   ]
  },
  {
   "cell_type": "code",
   "execution_count": 13,
   "metadata": {},
   "outputs": [
    {
     "data": {
      "image/png": "[encoded data removed]",
      "text/plain": [
       "<Figure size 432x288 with 1 Axes>"
      ]
     },
     "metadata": {
      "needs_background": "light"
     },
     "output_type": "display_data"
    }
   ],
   "source": [
    "# Generate a box plot of the final tumor volume of each mouse across four regimens of interest\n",
    "#conver dict to dataframe\n",
    "tmv_df=pd.DataFrame.from_dict(tumor_dict, orient ='index').transpose()\n",
    "#generate boxplot\n",
    "tmv_df.boxplot(grid=False, color ='b')\n",
    "plt.title('Tumor Volume by Drug')\n",
    "plt.ylabel('Tumor Volume (mm3)')\n",
    "plt.xticks([1, 2, 3, 4], drug_list)\n",
    "plt.show()"
   ]
  },
  {
   "cell_type": "markdown",
   "metadata": {},
   "source": [
    "## Line and Scatter Plots"
   ]
  },
  {
   "cell_type": "code",
   "execution_count": 14,
   "metadata": {},
   "outputs": [
    {
     "data": {
      "image/png": "[encoded data removed]",
      "text/plain": [
       "<Figure size 432x288 with 1 Axes>"
      ]
     },
     "metadata": {
      "needs_background": "light"
     },
     "output_type": "display_data"
    }
   ],
   "source": [
    "# Generate a line plot of tumor volume vs. time point for a mouse treated with Capomulin\n",
    "#Get all mice treated with capomulin\n",
    "cap_mouse = timepoint_df.loc[timepoint_df['Drug Regimen']== 'Capomulin']\n",
    "#return all unique mouse IDs in array\n",
    "uniq_m = cap_mouse['Mouse ID'].unique()\n",
    "#get df for mouse in array\n",
    "uniq_m_df = cap_mouse.loc[cap_mouse['Mouse ID']== uniq_m[0]]\n",
    "#generate plot\n",
    "title = f'Capmulin Regimen on Mouse: {uniq_m[0]}'\n",
    "ax1 = uniq_m_df.plot(x ='Timepoint_x', y ='Tumor Volume (mm3)', title = title, marker = 'o')\n",
    "ax1.set_ylabel(\"Tumor Volume (mm3)\")\n",
    "ax1.set_xlabel('Timepoint')\n",
    "\n",
    "plt.show()"
   ]
  },
  {
   "cell_type": "code",
   "execution_count": 15,
   "metadata": {
    "scrolled": true
   },
   "outputs": [
    {
     "data": {
      "image/png": "[encoded data removed]",
      "text/plain": [
       "<Figure size 432x288 with 1 Axes>"
      ]
     },
     "metadata": {
      "needs_background": "light"
     },
     "output_type": "display_data"
    }
   ],
   "source": [
    "# Generate a scatter plot of average tumor volume vs. mouse weight for the Capomulin regimen\n",
    "#get series containg average tumor volume for each unique mouse\n",
    "avg_tv = cap_mouse.groupby('Mouse ID')['Tumor Volume (mm3)'].mean()\n",
    "avg_tv = avg_tv.to_frame()\n",
    "#merge to full data frame\n",
    "cap_mouse_merge = pd.merge(cap_mouse, avg_tv, on = 'Mouse ID', how='outer')\n",
    "#create scatter plot based on merged frame\n",
    "cap_mouse_merge.plot(kind = 'scatter', x = 'Tumor Volume (mm3)_y', y = 'Weight (g)')\n",
    "plt.xlabel('Average Tumor Volume')\n",
    "plt.show()"
   ]
  },
  {
   "cell_type": "code",
   "execution_count": 16,
   "metadata": {},
   "outputs": [
    {
     "data": {
      "image/png": "[encoded data removed]",
      "text/plain": [
       "<Figure size 432x288 with 1 Axes>"
      ]
     },
     "metadata": {
      "needs_background": "light"
     },
     "output_type": "display_data"
    }
   ],
   "source": [
    "#generate plot with different x,y values\n",
    "cap_mouse_merge.plot(kind = 'scatter', y = 'Tumor Volume (mm3)_y', x = 'Weight (g)')\n",
    "plt.ylabel('Average Tumor Volume')\n",
    "plt.show()"
   ]
  },
  {
   "cell_type": "markdown",
   "metadata": {},
   "source": [
    "## Correlation and Regression"
   ]
  },
  {
   "cell_type": "code",
   "execution_count": 17,
   "metadata": {},
   "outputs": [
    {
     "data": {
      "image/png": "[encoded data removed]",
      "text/plain": [
       "<Figure size 432x288 with 1 Axes>"
      ]
     },
     "metadata": {
      "needs_background": "light"
     },
     "output_type": "display_data"
    },
    {
     "name": "stdout",
     "output_type": "stream",
     "text": [
      "The correlation coefficient between mouse weight and Average Tumor Volume is 0.83\n"
     ]
    }
   ],
   "source": [
    "# Calculate the correlation coefficient and linear regression model \n",
    "# for mouse weight and average tumor volume for the Capomulin regimen\n",
    "y_values = cap_mouse_merge['Tumor Volume (mm3)_y']\n",
    "x_values = cap_mouse_merge['Weight (g)']\n",
    "\n",
    "#generate linear regression stats using linregress\n",
    "(slope, intercept, rvalue, pvalue, stderr) = linregress(x_values, y_values)\n",
    "#get line eaution\n",
    "regress_values = x_values * slope + intercept\n",
    "line_eq = \"y = \" + str(round(slope,2)) + \"x + \" + str(round(intercept,2))\n",
    "#generate plot\n",
    "plt.plot(x_values,regress_values,\"r-\", label = line_eq)\n",
    "plt.scatter(x_values,y_values, s = 20)\n",
    "plt.legend(loc='upper left')\n",
    "plt.show()\n",
    "#use pearsonr lib to get corr coeeficient\n",
    "print(f\"The correlation coefficient between mouse weight and Average Tumor Volume is {round(st.pearsonr(x_values,y_values)[0],2)}\")"
   ]
  },
  {
   "cell_type": "code",
   "execution_count": 18,
   "metadata": {},
   "outputs": [
    {
     "data": {
      "image/png": "[encoded data removed]",
      "text/plain": [
       "<Figure size 432x288 with 1 Axes>"
      ]
     },
     "metadata": {
      "needs_background": "light"
     },
     "output_type": "display_data"
    },
    {
     "name": "stdout",
     "output_type": "stream",
     "text": [
      "The correlation coefficient between Average Tumor Volume and mouse weight is 0.83\n"
     ]
    }
   ],
   "source": [
    "#Same as above, x and y values are flipped\n",
    "x_values = cap_mouse_merge['Tumor Volume (mm3)_y']\n",
    "y_values = cap_mouse_merge['Weight (g)']\n",
    "\n",
    "(slope, intercept, rvalue, pvalue, stderr) = linregress(x_values, y_values)\n",
    "regress_values = x_values * slope + intercept\n",
    "line_eq = \"y = \" + str(round(slope,2)) + \"x + \" + str(round(intercept,2))\n",
    "\n",
    "plt.plot(x_values,regress_values,\"r-\", label = line_eq)\n",
    "plt.scatter(x_values,y_values, s = 20)\n",
    "plt.legend(loc='upper left')\n",
    "plt.show()\n",
    "\n",
    "print(f\"The correlation coefficient between Average Tumor Volume and mouse weight is {round(st.pearsonr(x_values,y_values)[0],2)}\")"
   ]
  }
 ],
 "metadata": {
  "anaconda-cloud": {},
  "kernelspec": {
   "display_name": "Python 3",
   "language": "python",
   "name": "python3"
  },
  "language_info": {
   "codemirror_mode": {
    "name": "ipython",
    "version": 3
   },
   "file_extension": ".py",
   "mimetype": "text/x-python",
   "name": "python",
   "nbconvert_exporter": "python",
   "pygments_lexer": "ipython3",
   "version": "3.6.10"
  }
 },
 "nbformat": 4,
 "nbformat_minor": 4
}
